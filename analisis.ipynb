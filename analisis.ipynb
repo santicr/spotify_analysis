{
 "cells": [
  {
   "cell_type": "markdown",
   "metadata": {},
   "source": [
    "# Librerías"
   ]
  },
  {
   "cell_type": "code",
   "execution_count": 164,
   "metadata": {},
   "outputs": [],
   "source": [
    "import pandas as pd\n",
    "import matplotlib as plt"
   ]
  },
  {
   "cell_type": "markdown",
   "metadata": {},
   "source": [
    "# Lectura de base de datos (preprocesamiento)"
   ]
  },
  {
   "cell_type": "markdown",
   "metadata": {},
   "source": [
    "Hago lectura de la base de datos con la función de pandas, ya que hay listas de géneros y de hits, debo leer las comillas \"\" para leer toda la lista en géneros y hits."
   ]
  },
  {
   "cell_type": "code",
   "execution_count": 165,
   "metadata": {},
   "outputs": [
    {
     "data": {
      "text/html": [
       "<div>\n",
       "<style scoped>\n",
       "    .dataframe tbody tr th:only-of-type {\n",
       "        vertical-align: middle;\n",
       "    }\n",
       "\n",
       "    .dataframe tbody tr th {\n",
       "        vertical-align: top;\n",
       "    }\n",
       "\n",
       "    .dataframe thead th {\n",
       "        text-align: right;\n",
       "    }\n",
       "</style>\n",
       "<table border=\"1\" class=\"dataframe\">\n",
       "  <thead>\n",
       "    <tr style=\"text-align: right;\">\n",
       "      <th></th>\n",
       "      <th>spotify_id</th>\n",
       "      <th>name</th>\n",
       "      <th>followers</th>\n",
       "      <th>popularity</th>\n",
       "      <th>genres</th>\n",
       "      <th>chart_hits</th>\n",
       "    </tr>\n",
       "  </thead>\n",
       "  <tbody>\n",
       "    <tr>\n",
       "      <th>0</th>\n",
       "      <td>48WvrUGoijadXXCsGocwM4</td>\n",
       "      <td>Byklubben</td>\n",
       "      <td>1738.0</td>\n",
       "      <td>24</td>\n",
       "      <td>['nordic house', 'russelater']</td>\n",
       "      <td>['no (3)']</td>\n",
       "    </tr>\n",
       "    <tr>\n",
       "      <th>1</th>\n",
       "      <td>4lDiJcOJ2GLCK6p9q5BgfK</td>\n",
       "      <td>Kontra K</td>\n",
       "      <td>1999676.0</td>\n",
       "      <td>72</td>\n",
       "      <td>['christlicher rap', 'german hip hop']</td>\n",
       "      <td>['at (44)', 'de (111)', 'lu (22)', 'ch (31)', ...</td>\n",
       "    </tr>\n",
       "    <tr>\n",
       "      <th>2</th>\n",
       "      <td>652XIvIBNGg3C0KIGEJWit</td>\n",
       "      <td>Maxim</td>\n",
       "      <td>34596.0</td>\n",
       "      <td>36</td>\n",
       "      <td>[]</td>\n",
       "      <td>['de (1)']</td>\n",
       "    </tr>\n",
       "    <tr>\n",
       "      <th>3</th>\n",
       "      <td>3dXC1YPbnQPsfHPVkm1ipj</td>\n",
       "      <td>Christopher Martin</td>\n",
       "      <td>249233.0</td>\n",
       "      <td>52</td>\n",
       "      <td>['dancehall', 'lovers rock', 'modern reggae', ...</td>\n",
       "      <td>['at (1)', 'de (1)']</td>\n",
       "    </tr>\n",
       "    <tr>\n",
       "      <th>4</th>\n",
       "      <td>74terC9ol9zMo8rfzhSOiG</td>\n",
       "      <td>Jakob Hellman</td>\n",
       "      <td>21193.0</td>\n",
       "      <td>39</td>\n",
       "      <td>['classic swedish pop', 'norrbotten indie', 's...</td>\n",
       "      <td>['se (6)']</td>\n",
       "    </tr>\n",
       "  </tbody>\n",
       "</table>\n",
       "</div>"
      ],
      "text/plain": [
       "               spotify_id                name  followers  popularity  \\\n",
       "0  48WvrUGoijadXXCsGocwM4           Byklubben     1738.0          24   \n",
       "1  4lDiJcOJ2GLCK6p9q5BgfK            Kontra K  1999676.0          72   \n",
       "2  652XIvIBNGg3C0KIGEJWit               Maxim    34596.0          36   \n",
       "3  3dXC1YPbnQPsfHPVkm1ipj  Christopher Martin   249233.0          52   \n",
       "4  74terC9ol9zMo8rfzhSOiG       Jakob Hellman    21193.0          39   \n",
       "\n",
       "                                              genres  \\\n",
       "0                     ['nordic house', 'russelater']   \n",
       "1             ['christlicher rap', 'german hip hop']   \n",
       "2                                                 []   \n",
       "3  ['dancehall', 'lovers rock', 'modern reggae', ...   \n",
       "4  ['classic swedish pop', 'norrbotten indie', 's...   \n",
       "\n",
       "                                          chart_hits  \n",
       "0                                         ['no (3)']  \n",
       "1  ['at (44)', 'de (111)', 'lu (22)', 'ch (31)', ...  \n",
       "2                                         ['de (1)']  \n",
       "3                               ['at (1)', 'de (1)']  \n",
       "4                                         ['se (6)']  "
      ]
     },
     "execution_count": 165,
     "metadata": {},
     "output_type": "execute_result"
    }
   ],
   "source": [
    "data = pd.read_csv('./spotify_dataset/nodes.csv', quotechar = '\"')\n",
    "data.head()"
   ]
  },
  {
   "cell_type": "markdown",
   "metadata": {},
   "source": [
    "Procedo a verificar los tipos de los datos para realizar el respectivo análisis desde cada tipo."
   ]
  },
  {
   "cell_type": "code",
   "execution_count": 166,
   "metadata": {},
   "outputs": [
    {
     "data": {
      "text/plain": [
       "spotify_id     object\n",
       "name           object\n",
       "followers     float64\n",
       "popularity      int64\n",
       "genres         object\n",
       "chart_hits     object\n",
       "dtype: object"
      ]
     },
     "execution_count": 166,
     "metadata": {},
     "output_type": "execute_result"
    }
   ],
   "source": [
    "data.dtypes"
   ]
  },
  {
   "cell_type": "markdown",
   "metadata": {},
   "source": [
    "Verifico los valores nulos para reemplazarlos por algún valor válido."
   ]
  },
  {
   "cell_type": "code",
   "execution_count": 167,
   "metadata": {},
   "outputs": [
    {
     "data": {
      "text/plain": [
       "spotify_id         0\n",
       "name               4\n",
       "followers          4\n",
       "popularity         0\n",
       "genres             0\n",
       "chart_hits    136781\n",
       "dtype: int64"
      ]
     },
     "execution_count": 167,
     "metadata": {},
     "output_type": "execute_result"
    }
   ],
   "source": [
    "data.isnull().sum()"
   ]
  },
  {
   "cell_type": "markdown",
   "metadata": {},
   "source": [
    "Como se observa, existen valores nulos en los campos: name, followers y chart_hits. Debido a que en chart hits las listas pueden ser vacías para el caso de los artistas que no hayan tenido hits, este valor es \"nulo\" es válido. Para followers y name se cambian los valores por 0 y 'Unknown' respectivamente."
   ]
  },
  {
   "cell_type": "code",
   "execution_count": 168,
   "metadata": {},
   "outputs": [],
   "source": [
    "data['followers'] = data['followers'].fillna(0)\n",
    "data['name'] = data['name'].fillna('Unknown')"
   ]
  },
  {
   "cell_type": "markdown",
   "metadata": {},
   "source": [
    "# Análisis de los datos"
   ]
  },
  {
   "cell_type": "markdown",
   "metadata": {},
   "source": [
    "Top 10 artistas y sus canciones de éxito con más seguidores.\n",
    "Detalles sobre los artistas y sus canciones de éxito, estas pueden ser promocionadas a usuarios que escuchen música de su mismo género."
   ]
  },
  {
   "cell_type": "code",
   "execution_count": 169,
   "metadata": {},
   "outputs": [
    {
     "data": {
      "text/html": [
       "<div>\n",
       "<style scoped>\n",
       "    .dataframe tbody tr th:only-of-type {\n",
       "        vertical-align: middle;\n",
       "    }\n",
       "\n",
       "    .dataframe tbody tr th {\n",
       "        vertical-align: top;\n",
       "    }\n",
       "\n",
       "    .dataframe thead th {\n",
       "        text-align: right;\n",
       "    }\n",
       "</style>\n",
       "<table border=\"1\" class=\"dataframe\">\n",
       "  <thead>\n",
       "    <tr style=\"text-align: right;\">\n",
       "      <th></th>\n",
       "      <th>name</th>\n",
       "      <th>followers</th>\n",
       "      <th>chart_hits</th>\n",
       "    </tr>\n",
       "  </thead>\n",
       "  <tbody>\n",
       "    <tr>\n",
       "      <th>14198</th>\n",
       "      <td>Ed Sheeran</td>\n",
       "      <td>102156853.0</td>\n",
       "      <td>['us (52)', 'gb (83)', 'ar (36)', 'au (65)', '...</td>\n",
       "    </tr>\n",
       "    <tr>\n",
       "      <th>17604</th>\n",
       "      <td>Ariana Grande</td>\n",
       "      <td>83045090.0</td>\n",
       "      <td>['us (81)', 'gb (69)', 'ar (36)', 'au (70)', '...</td>\n",
       "    </tr>\n",
       "    <tr>\n",
       "      <th>18188</th>\n",
       "      <td>Billie Eilish</td>\n",
       "      <td>68407227.0</td>\n",
       "      <td>['us (46)', 'gb (43)', 'ar (23)', 'au (45)', '...</td>\n",
       "    </tr>\n",
       "    <tr>\n",
       "      <th>18726</th>\n",
       "      <td>Drake</td>\n",
       "      <td>66852536.0</td>\n",
       "      <td>['us (190)', 'gb (163)', 'ar (18)', 'au (148)'...</td>\n",
       "    </tr>\n",
       "    <tr>\n",
       "      <th>6237</th>\n",
       "      <td>Justin Bieber</td>\n",
       "      <td>65590075.0</td>\n",
       "      <td>['us (58)', 'gb (51)', 'ar (29)', 'au (54)', '...</td>\n",
       "    </tr>\n",
       "    <tr>\n",
       "      <th>5486</th>\n",
       "      <td>Eminem</td>\n",
       "      <td>59184634.0</td>\n",
       "      <td>['us (78)', 'gb (72)', 'ar (7)', 'au (64)', 'a...</td>\n",
       "    </tr>\n",
       "    <tr>\n",
       "      <th>4646</th>\n",
       "      <td>Taylor Swift</td>\n",
       "      <td>58554324.0</td>\n",
       "      <td>['us (136)', 'gb (115)', 'ar (24)', 'au (110)'...</td>\n",
       "    </tr>\n",
       "    <tr>\n",
       "      <th>14707</th>\n",
       "      <td>Arijit Singh</td>\n",
       "      <td>58523986.0</td>\n",
       "      <td>['in (45)', 'my (5)', 'sg (2)', 'ae (3)']</td>\n",
       "    </tr>\n",
       "    <tr>\n",
       "      <th>11203</th>\n",
       "      <td>Bad Bunny</td>\n",
       "      <td>55669387.0</td>\n",
       "      <td>['us (76)', 'gb (1)', 'ar (91)', 'au (2)', 'at...</td>\n",
       "    </tr>\n",
       "    <tr>\n",
       "      <th>17550</th>\n",
       "      <td>BTS</td>\n",
       "      <td>54532917.0</td>\n",
       "      <td>['us (55)', 'gb (32)', 'ar (30)', 'au (32)', '...</td>\n",
       "    </tr>\n",
       "  </tbody>\n",
       "</table>\n",
       "</div>"
      ],
      "text/plain": [
       "                name    followers  \\\n",
       "14198     Ed Sheeran  102156853.0   \n",
       "17604  Ariana Grande   83045090.0   \n",
       "18188  Billie Eilish   68407227.0   \n",
       "18726          Drake   66852536.0   \n",
       "6237   Justin Bieber   65590075.0   \n",
       "5486          Eminem   59184634.0   \n",
       "4646    Taylor Swift   58554324.0   \n",
       "14707   Arijit Singh   58523986.0   \n",
       "11203      Bad Bunny   55669387.0   \n",
       "17550            BTS   54532917.0   \n",
       "\n",
       "                                              chart_hits  \n",
       "14198  ['us (52)', 'gb (83)', 'ar (36)', 'au (65)', '...  \n",
       "17604  ['us (81)', 'gb (69)', 'ar (36)', 'au (70)', '...  \n",
       "18188  ['us (46)', 'gb (43)', 'ar (23)', 'au (45)', '...  \n",
       "18726  ['us (190)', 'gb (163)', 'ar (18)', 'au (148)'...  \n",
       "6237   ['us (58)', 'gb (51)', 'ar (29)', 'au (54)', '...  \n",
       "5486   ['us (78)', 'gb (72)', 'ar (7)', 'au (64)', 'a...  \n",
       "4646   ['us (136)', 'gb (115)', 'ar (24)', 'au (110)'...  \n",
       "14707          ['in (45)', 'my (5)', 'sg (2)', 'ae (3)']  \n",
       "11203  ['us (76)', 'gb (1)', 'ar (91)', 'au (2)', 'at...  \n",
       "17550  ['us (55)', 'gb (32)', 'ar (30)', 'au (32)', '...  "
      ]
     },
     "execution_count": 169,
     "metadata": {},
     "output_type": "execute_result"
    }
   ],
   "source": [
    "top_artist_follower = data.sort_values(by = ['followers', 'popularity'], ascending = False).filter(['name', 'followers', 'chart_hits']).head(n = 10)\n",
    "top_artist_follower"
   ]
  },
  {
   "cell_type": "markdown",
   "metadata": {},
   "source": [
    "Top 10 artistas y sus canciones de éxito con menos seguidores. Detalles sobre los artistas con menos seguidores, esto con el fin de promocionar el contenido de estos artistas a los mismos seguidores ya que su contenido no genera impacto en la mayoría de personas."
   ]
  },
  {
   "cell_type": "code",
   "execution_count": 170,
   "metadata": {},
   "outputs": [
    {
     "data": {
      "text/html": [
       "<div>\n",
       "<style scoped>\n",
       "    .dataframe tbody tr th:only-of-type {\n",
       "        vertical-align: middle;\n",
       "    }\n",
       "\n",
       "    .dataframe tbody tr th {\n",
       "        vertical-align: top;\n",
       "    }\n",
       "\n",
       "    .dataframe thead th {\n",
       "        text-align: right;\n",
       "    }\n",
       "</style>\n",
       "<table border=\"1\" class=\"dataframe\">\n",
       "  <thead>\n",
       "    <tr style=\"text-align: right;\">\n",
       "      <th></th>\n",
       "      <th>name</th>\n",
       "      <th>followers</th>\n",
       "      <th>chart_hits</th>\n",
       "    </tr>\n",
       "  </thead>\n",
       "  <tbody>\n",
       "    <tr>\n",
       "      <th>192</th>\n",
       "      <td>Jeff</td>\n",
       "      <td>0.0</td>\n",
       "      <td>['tr (1)']</td>\n",
       "    </tr>\n",
       "    <tr>\n",
       "      <th>214</th>\n",
       "      <td>Christmas Zero</td>\n",
       "      <td>0.0</td>\n",
       "      <td>['ee (1)']</td>\n",
       "    </tr>\n",
       "    <tr>\n",
       "      <th>322</th>\n",
       "      <td>Empress In Road</td>\n",
       "      <td>0.0</td>\n",
       "      <td>['ee (1)']</td>\n",
       "    </tr>\n",
       "    <tr>\n",
       "      <th>340</th>\n",
       "      <td>Oldzzies</td>\n",
       "      <td>0.0</td>\n",
       "      <td>['ee (1)']</td>\n",
       "    </tr>\n",
       "    <tr>\n",
       "      <th>377</th>\n",
       "      <td>Yo Dawg Z</td>\n",
       "      <td>0.0</td>\n",
       "      <td>['ee (1)']</td>\n",
       "    </tr>\n",
       "    <tr>\n",
       "      <th>439</th>\n",
       "      <td>SarahStiltner</td>\n",
       "      <td>0.0</td>\n",
       "      <td>['ni (5)']</td>\n",
       "    </tr>\n",
       "    <tr>\n",
       "      <th>611</th>\n",
       "      <td>Pickal</td>\n",
       "      <td>0.0</td>\n",
       "      <td>['sk (1)']</td>\n",
       "    </tr>\n",
       "    <tr>\n",
       "      <th>636</th>\n",
       "      <td>Ac0osta</td>\n",
       "      <td>0.0</td>\n",
       "      <td>['ee (1)']</td>\n",
       "    </tr>\n",
       "    <tr>\n",
       "      <th>686</th>\n",
       "      <td>Vadims Petrovs</td>\n",
       "      <td>0.0</td>\n",
       "      <td>['lv (2)']</td>\n",
       "    </tr>\n",
       "    <tr>\n",
       "      <th>735</th>\n",
       "      <td>Sambaralla</td>\n",
       "      <td>0.0</td>\n",
       "      <td>['ee (1)']</td>\n",
       "    </tr>\n",
       "  </tbody>\n",
       "</table>\n",
       "</div>"
      ],
      "text/plain": [
       "                name  followers  chart_hits\n",
       "192             Jeff        0.0  ['tr (1)']\n",
       "214   Christmas Zero        0.0  ['ee (1)']\n",
       "322  Empress In Road        0.0  ['ee (1)']\n",
       "340         Oldzzies        0.0  ['ee (1)']\n",
       "377        Yo Dawg Z        0.0  ['ee (1)']\n",
       "439    SarahStiltner        0.0  ['ni (5)']\n",
       "611           Pickal        0.0  ['sk (1)']\n",
       "636          Ac0osta        0.0  ['ee (1)']\n",
       "686   Vadims Petrovs        0.0  ['lv (2)']\n",
       "735       Sambaralla        0.0  ['ee (1)']"
      ]
     },
     "execution_count": 170,
     "metadata": {},
     "output_type": "execute_result"
    }
   ],
   "source": [
    "top_artist_follower_ = data.sort_values(by = ['followers', 'popularity']).filter(['name', 'followers', 'chart_hits']).head(n = 10)\n",
    "top_artist_follower_"
   ]
  },
  {
   "cell_type": "markdown",
   "metadata": {},
   "source": [
    "Top 10 artistas con mayores índices de popularidad con sus canciones de éxito. Detalles sobre los artistas y sus canciones de éxito, estas pueden ser promocionadas a usuarios que escuchen música de su mismo género."
   ]
  },
  {
   "cell_type": "code",
   "execution_count": 171,
   "metadata": {},
   "outputs": [
    {
     "data": {
      "text/html": [
       "<div>\n",
       "<style scoped>\n",
       "    .dataframe tbody tr th:only-of-type {\n",
       "        vertical-align: middle;\n",
       "    }\n",
       "\n",
       "    .dataframe tbody tr th {\n",
       "        vertical-align: top;\n",
       "    }\n",
       "\n",
       "    .dataframe thead th {\n",
       "        text-align: right;\n",
       "    }\n",
       "</style>\n",
       "<table border=\"1\" class=\"dataframe\">\n",
       "  <thead>\n",
       "    <tr style=\"text-align: right;\">\n",
       "      <th></th>\n",
       "      <th>name</th>\n",
       "      <th>popularity</th>\n",
       "      <th>chart_hits</th>\n",
       "    </tr>\n",
       "  </thead>\n",
       "  <tbody>\n",
       "    <tr>\n",
       "      <th>11203</th>\n",
       "      <td>Bad Bunny</td>\n",
       "      <td>100</td>\n",
       "      <td>['us (76)', 'gb (1)', 'ar (91)', 'au (2)', 'at...</td>\n",
       "    </tr>\n",
       "    <tr>\n",
       "      <th>18726</th>\n",
       "      <td>Drake</td>\n",
       "      <td>95</td>\n",
       "      <td>['us (190)', 'gb (163)', 'ar (18)', 'au (148)'...</td>\n",
       "    </tr>\n",
       "    <tr>\n",
       "      <th>4646</th>\n",
       "      <td>Taylor Swift</td>\n",
       "      <td>94</td>\n",
       "      <td>['us (136)', 'gb (115)', 'ar (24)', 'au (110)'...</td>\n",
       "    </tr>\n",
       "    <tr>\n",
       "      <th>13879</th>\n",
       "      <td>The Weeknd</td>\n",
       "      <td>93</td>\n",
       "      <td>['us (81)', 'gb (74)', 'ar (23)', 'au (76)', '...</td>\n",
       "    </tr>\n",
       "    <tr>\n",
       "      <th>17550</th>\n",
       "      <td>BTS</td>\n",
       "      <td>91</td>\n",
       "      <td>['us (55)', 'gb (32)', 'ar (30)', 'au (32)', '...</td>\n",
       "    </tr>\n",
       "    <tr>\n",
       "      <th>16116</th>\n",
       "      <td>Harry Styles</td>\n",
       "      <td>91</td>\n",
       "      <td>['us (35)', 'gb (35)', 'ar (23)', 'au (35)', '...</td>\n",
       "    </tr>\n",
       "    <tr>\n",
       "      <th>19533</th>\n",
       "      <td>Kanye West</td>\n",
       "      <td>91</td>\n",
       "      <td>['us (89)', 'gb (84)', 'ar (3)', 'au (81)', 'a...</td>\n",
       "    </tr>\n",
       "    <tr>\n",
       "      <th>14198</th>\n",
       "      <td>Ed Sheeran</td>\n",
       "      <td>90</td>\n",
       "      <td>['us (52)', 'gb (83)', 'ar (36)', 'au (65)', '...</td>\n",
       "    </tr>\n",
       "    <tr>\n",
       "      <th>6237</th>\n",
       "      <td>Justin Bieber</td>\n",
       "      <td>90</td>\n",
       "      <td>['us (58)', 'gb (51)', 'ar (29)', 'au (54)', '...</td>\n",
       "    </tr>\n",
       "    <tr>\n",
       "      <th>5486</th>\n",
       "      <td>Eminem</td>\n",
       "      <td>90</td>\n",
       "      <td>['us (78)', 'gb (72)', 'ar (7)', 'au (64)', 'a...</td>\n",
       "    </tr>\n",
       "  </tbody>\n",
       "</table>\n",
       "</div>"
      ],
      "text/plain": [
       "                name  popularity  \\\n",
       "11203      Bad Bunny         100   \n",
       "18726          Drake          95   \n",
       "4646    Taylor Swift          94   \n",
       "13879     The Weeknd          93   \n",
       "17550            BTS          91   \n",
       "16116   Harry Styles          91   \n",
       "19533     Kanye West          91   \n",
       "14198     Ed Sheeran          90   \n",
       "6237   Justin Bieber          90   \n",
       "5486          Eminem          90   \n",
       "\n",
       "                                              chart_hits  \n",
       "11203  ['us (76)', 'gb (1)', 'ar (91)', 'au (2)', 'at...  \n",
       "18726  ['us (190)', 'gb (163)', 'ar (18)', 'au (148)'...  \n",
       "4646   ['us (136)', 'gb (115)', 'ar (24)', 'au (110)'...  \n",
       "13879  ['us (81)', 'gb (74)', 'ar (23)', 'au (76)', '...  \n",
       "17550  ['us (55)', 'gb (32)', 'ar (30)', 'au (32)', '...  \n",
       "16116  ['us (35)', 'gb (35)', 'ar (23)', 'au (35)', '...  \n",
       "19533  ['us (89)', 'gb (84)', 'ar (3)', 'au (81)', 'a...  \n",
       "14198  ['us (52)', 'gb (83)', 'ar (36)', 'au (65)', '...  \n",
       "6237   ['us (58)', 'gb (51)', 'ar (29)', 'au (54)', '...  \n",
       "5486   ['us (78)', 'gb (72)', 'ar (7)', 'au (64)', 'a...  "
      ]
     },
     "execution_count": 171,
     "metadata": {},
     "output_type": "execute_result"
    }
   ],
   "source": [
    "top_artist_popularity = data.sort_values(by = ['popularity', 'followers'], ascending = False).filter(['name', 'popularity', 'chart_hits']).head(n = 10)\n",
    "top_artist_popularity"
   ]
  },
  {
   "cell_type": "markdown",
   "metadata": {},
   "source": [
    "Top 10 artistas con menores índices de popularidad con sus canciones de éxito. Detalles sobre los artistas, no se recomienda realizar publicidad para estos artistas."
   ]
  },
  {
   "cell_type": "code",
   "execution_count": 172,
   "metadata": {},
   "outputs": [
    {
     "data": {
      "text/html": [
       "<div>\n",
       "<style scoped>\n",
       "    .dataframe tbody tr th:only-of-type {\n",
       "        vertical-align: middle;\n",
       "    }\n",
       "\n",
       "    .dataframe tbody tr th {\n",
       "        vertical-align: top;\n",
       "    }\n",
       "\n",
       "    .dataframe thead th {\n",
       "        text-align: right;\n",
       "    }\n",
       "</style>\n",
       "<table border=\"1\" class=\"dataframe\">\n",
       "  <thead>\n",
       "    <tr style=\"text-align: right;\">\n",
       "      <th></th>\n",
       "      <th>name</th>\n",
       "      <th>popularity</th>\n",
       "      <th>chart_hits</th>\n",
       "    </tr>\n",
       "  </thead>\n",
       "  <tbody>\n",
       "    <tr>\n",
       "      <th>192</th>\n",
       "      <td>Jeff</td>\n",
       "      <td>0</td>\n",
       "      <td>['tr (1)']</td>\n",
       "    </tr>\n",
       "    <tr>\n",
       "      <th>214</th>\n",
       "      <td>Christmas Zero</td>\n",
       "      <td>0</td>\n",
       "      <td>['ee (1)']</td>\n",
       "    </tr>\n",
       "    <tr>\n",
       "      <th>322</th>\n",
       "      <td>Empress In Road</td>\n",
       "      <td>0</td>\n",
       "      <td>['ee (1)']</td>\n",
       "    </tr>\n",
       "    <tr>\n",
       "      <th>340</th>\n",
       "      <td>Oldzzies</td>\n",
       "      <td>0</td>\n",
       "      <td>['ee (1)']</td>\n",
       "    </tr>\n",
       "    <tr>\n",
       "      <th>377</th>\n",
       "      <td>Yo Dawg Z</td>\n",
       "      <td>0</td>\n",
       "      <td>['ee (1)']</td>\n",
       "    </tr>\n",
       "    <tr>\n",
       "      <th>439</th>\n",
       "      <td>SarahStiltner</td>\n",
       "      <td>0</td>\n",
       "      <td>['ni (5)']</td>\n",
       "    </tr>\n",
       "    <tr>\n",
       "      <th>611</th>\n",
       "      <td>Pickal</td>\n",
       "      <td>0</td>\n",
       "      <td>['sk (1)']</td>\n",
       "    </tr>\n",
       "    <tr>\n",
       "      <th>636</th>\n",
       "      <td>Ac0osta</td>\n",
       "      <td>0</td>\n",
       "      <td>['ee (1)']</td>\n",
       "    </tr>\n",
       "    <tr>\n",
       "      <th>686</th>\n",
       "      <td>Vadims Petrovs</td>\n",
       "      <td>0</td>\n",
       "      <td>['lv (2)']</td>\n",
       "    </tr>\n",
       "    <tr>\n",
       "      <th>735</th>\n",
       "      <td>Sambaralla</td>\n",
       "      <td>0</td>\n",
       "      <td>['ee (1)']</td>\n",
       "    </tr>\n",
       "  </tbody>\n",
       "</table>\n",
       "</div>"
      ],
      "text/plain": [
       "                name  popularity  chart_hits\n",
       "192             Jeff           0  ['tr (1)']\n",
       "214   Christmas Zero           0  ['ee (1)']\n",
       "322  Empress In Road           0  ['ee (1)']\n",
       "340         Oldzzies           0  ['ee (1)']\n",
       "377        Yo Dawg Z           0  ['ee (1)']\n",
       "439    SarahStiltner           0  ['ni (5)']\n",
       "611           Pickal           0  ['sk (1)']\n",
       "636          Ac0osta           0  ['ee (1)']\n",
       "686   Vadims Petrovs           0  ['lv (2)']\n",
       "735       Sambaralla           0  ['ee (1)']"
      ]
     },
     "execution_count": 172,
     "metadata": {},
     "output_type": "execute_result"
    }
   ],
   "source": [
    "top_artist_popularity_ = data.sort_values(by = ['popularity', 'followers']).filter(['name', 'popularity', 'chart_hits']).head(n = 10)\n",
    "top_artist_popularity_"
   ]
  },
  {
   "cell_type": "markdown",
   "metadata": {},
   "source": [
    "Top 10 géneros que son más usados por todos los artistas. Los géneros que la mayoría de artistas usan para sus canciones."
   ]
  },
  {
   "cell_type": "code",
   "execution_count": 173,
   "metadata": {},
   "outputs": [
    {
     "data": {
      "text/plain": [
       "genres\n",
       "['v-pop']             157\n",
       "['dutch hip hop']     124\n",
       "['amapiano']          110\n",
       "['k-rap']             109\n",
       "['pop edm']           105\n",
       "['indonesian pop']    102\n",
       "['russelater']         99\n",
       "['eurovision']         95\n",
       "['danish hip hop']     94\n",
       "dtype: int64"
      ]
     },
     "execution_count": 173,
     "metadata": {},
     "output_type": "execute_result"
    }
   ],
   "source": [
    "data.groupby('genres').size().sort_values(ascending = False).head(n = 10).iloc[1:]"
   ]
  },
  {
   "cell_type": "markdown",
   "metadata": {},
   "source": [
    "Top 10 géneros que tienen más seguidores. Esto se puede usar para promocionar o recomendar estos géneros a todo usuario."
   ]
  },
  {
   "cell_type": "code",
   "execution_count": 174,
   "metadata": {},
   "outputs": [
    {
     "data": {
      "text/html": [
       "<div>\n",
       "<style scoped>\n",
       "    .dataframe tbody tr th:only-of-type {\n",
       "        vertical-align: middle;\n",
       "    }\n",
       "\n",
       "    .dataframe tbody tr th {\n",
       "        vertical-align: top;\n",
       "    }\n",
       "\n",
       "    .dataframe thead th {\n",
       "        text-align: right;\n",
       "    }\n",
       "</style>\n",
       "<table border=\"1\" class=\"dataframe\">\n",
       "  <thead>\n",
       "    <tr style=\"text-align: right;\">\n",
       "      <th></th>\n",
       "      <th>followers</th>\n",
       "    </tr>\n",
       "    <tr>\n",
       "      <th>genres</th>\n",
       "      <th></th>\n",
       "    </tr>\n",
       "  </thead>\n",
       "  <tbody>\n",
       "    <tr>\n",
       "      <th>['desi pop', 'filmi', 'modern bollywood']</th>\n",
       "      <td>245217698.0</td>\n",
       "    </tr>\n",
       "    <tr>\n",
       "      <th>['dance pop', 'pop']</th>\n",
       "      <td>243884264.0</td>\n",
       "    </tr>\n",
       "    <tr>\n",
       "      <th>[]</th>\n",
       "      <td>205207269.0</td>\n",
       "    </tr>\n",
       "    <tr>\n",
       "      <th>['k-pop', 'k-pop boy group']</th>\n",
       "      <td>158700804.0</td>\n",
       "    </tr>\n",
       "    <tr>\n",
       "      <th>['pop']</th>\n",
       "      <td>151385740.0</td>\n",
       "    </tr>\n",
       "    <tr>\n",
       "      <th>['dance pop', 'pop', 'post-teen pop', 'uk pop']</th>\n",
       "      <td>149505761.0</td>\n",
       "    </tr>\n",
       "    <tr>\n",
       "      <th>['pop', 'uk pop']</th>\n",
       "      <td>120092667.0</td>\n",
       "    </tr>\n",
       "    <tr>\n",
       "      <th>['latin hip hop', 'reggaeton', 'trap latino']</th>\n",
       "      <td>96290273.0</td>\n",
       "    </tr>\n",
       "    <tr>\n",
       "      <th>['latin hip hop', 'reggaeton', 'reggaeton flow', 'trap latino']</th>\n",
       "      <td>95385790.0</td>\n",
       "    </tr>\n",
       "    <tr>\n",
       "      <th>['k-pop', 'k-pop girl group']</th>\n",
       "      <td>92844733.0</td>\n",
       "    </tr>\n",
       "  </tbody>\n",
       "</table>\n",
       "</div>"
      ],
      "text/plain": [
       "                                                      followers\n",
       "genres                                                         \n",
       "['desi pop', 'filmi', 'modern bollywood']           245217698.0\n",
       "['dance pop', 'pop']                                243884264.0\n",
       "[]                                                  205207269.0\n",
       "['k-pop', 'k-pop boy group']                        158700804.0\n",
       "['pop']                                             151385740.0\n",
       "['dance pop', 'pop', 'post-teen pop', 'uk pop']     149505761.0\n",
       "['pop', 'uk pop']                                   120092667.0\n",
       "['latin hip hop', 'reggaeton', 'trap latino']        96290273.0\n",
       "['latin hip hop', 'reggaeton', 'reggaeton flow'...   95385790.0\n",
       "['k-pop', 'k-pop girl group']                        92844733.0"
      ]
     },
     "execution_count": 174,
     "metadata": {},
     "output_type": "execute_result"
    }
   ],
   "source": [
    "top_genre_follower = data.filter(['genres', 'followers']).groupby('genres').sum().sort_values('followers', ascending=False).head(n = 10)\n",
    "top_genre_follower"
   ]
  },
  {
   "cell_type": "markdown",
   "metadata": {},
   "source": [
    "Top 10 géneros que tienen menos seguidores. No es recomendable publicitar cada uno de estos géneros."
   ]
  },
  {
   "cell_type": "code",
   "execution_count": 175,
   "metadata": {},
   "outputs": [
    {
     "data": {
      "text/html": [
       "<div>\n",
       "<style scoped>\n",
       "    .dataframe tbody tr th:only-of-type {\n",
       "        vertical-align: middle;\n",
       "    }\n",
       "\n",
       "    .dataframe tbody tr th {\n",
       "        vertical-align: top;\n",
       "    }\n",
       "\n",
       "    .dataframe thead th {\n",
       "        text-align: right;\n",
       "    }\n",
       "</style>\n",
       "<table border=\"1\" class=\"dataframe\">\n",
       "  <thead>\n",
       "    <tr style=\"text-align: right;\">\n",
       "      <th></th>\n",
       "      <th>followers</th>\n",
       "    </tr>\n",
       "    <tr>\n",
       "      <th>genres</th>\n",
       "      <th></th>\n",
       "    </tr>\n",
       "  </thead>\n",
       "  <tbody>\n",
       "    <tr>\n",
       "      <th>['estonian folk', 'lastelaulud']</th>\n",
       "      <td>1.0</td>\n",
       "    </tr>\n",
       "    <tr>\n",
       "      <th>['blues-rock guitar']</th>\n",
       "      <td>1.0</td>\n",
       "    </tr>\n",
       "    <tr>\n",
       "      <th>['bells']</th>\n",
       "      <td>1.0</td>\n",
       "    </tr>\n",
       "    <tr>\n",
       "      <th>['school ensemble']</th>\n",
       "      <td>1.0</td>\n",
       "    </tr>\n",
       "    <tr>\n",
       "      <th>['mahraganat', 'syrian pop']</th>\n",
       "      <td>1.0</td>\n",
       "    </tr>\n",
       "    <tr>\n",
       "      <th>['hungarian choir']</th>\n",
       "      <td>2.0</td>\n",
       "    </tr>\n",
       "    <tr>\n",
       "      <th>['glee club']</th>\n",
       "      <td>2.0</td>\n",
       "    </tr>\n",
       "    <tr>\n",
       "      <th>['brass quintet']</th>\n",
       "      <td>2.0</td>\n",
       "    </tr>\n",
       "    <tr>\n",
       "      <th>['organetto']</th>\n",
       "      <td>2.0</td>\n",
       "    </tr>\n",
       "    <tr>\n",
       "      <th>['handbells']</th>\n",
       "      <td>3.0</td>\n",
       "    </tr>\n",
       "  </tbody>\n",
       "</table>\n",
       "</div>"
      ],
      "text/plain": [
       "                                  followers\n",
       "genres                                     \n",
       "['estonian folk', 'lastelaulud']        1.0\n",
       "['blues-rock guitar']                   1.0\n",
       "['bells']                               1.0\n",
       "['school ensemble']                     1.0\n",
       "['mahraganat', 'syrian pop']            1.0\n",
       "['hungarian choir']                     2.0\n",
       "['glee club']                           2.0\n",
       "['brass quintet']                       2.0\n",
       "['organetto']                           2.0\n",
       "['handbells']                           3.0"
      ]
     },
     "execution_count": 175,
     "metadata": {},
     "output_type": "execute_result"
    }
   ],
   "source": [
    "data.filter(['genres', 'followers']).groupby('genres').sum().sort_values('followers').head(n = 10)"
   ]
  },
  {
   "cell_type": "markdown",
   "metadata": {},
   "source": [
    "Top 10 géneros que tienen más popularidad. Publicitar estos géneros en cada usuario y que a su vez, los usuarios conozcan artistas de estos géneros."
   ]
  },
  {
   "cell_type": "code",
   "execution_count": 176,
   "metadata": {},
   "outputs": [
    {
     "data": {
      "text/html": [
       "<div>\n",
       "<style scoped>\n",
       "    .dataframe tbody tr th:only-of-type {\n",
       "        vertical-align: middle;\n",
       "    }\n",
       "\n",
       "    .dataframe tbody tr th {\n",
       "        vertical-align: top;\n",
       "    }\n",
       "\n",
       "    .dataframe thead th {\n",
       "        text-align: right;\n",
       "    }\n",
       "</style>\n",
       "<table border=\"1\" class=\"dataframe\">\n",
       "  <thead>\n",
       "    <tr style=\"text-align: right;\">\n",
       "      <th></th>\n",
       "      <th>popularity</th>\n",
       "    </tr>\n",
       "    <tr>\n",
       "      <th>genres</th>\n",
       "      <th></th>\n",
       "    </tr>\n",
       "  </thead>\n",
       "  <tbody>\n",
       "    <tr>\n",
       "      <th>['canadian hip hop', 'canadian pop', 'hip hop', 'rap', 'toronto rap']</th>\n",
       "      <td>95.0</td>\n",
       "    </tr>\n",
       "    <tr>\n",
       "      <th>['canadian contemporary r&amp;b', 'canadian pop', 'pop']</th>\n",
       "      <td>93.0</td>\n",
       "    </tr>\n",
       "    <tr>\n",
       "      <th>['chicago rap', 'rap']</th>\n",
       "      <td>91.0</td>\n",
       "    </tr>\n",
       "    <tr>\n",
       "      <th>['canadian pop', 'pop']</th>\n",
       "      <td>90.0</td>\n",
       "    </tr>\n",
       "    <tr>\n",
       "      <th>['detroit hip hop', 'hip hop', 'rap']</th>\n",
       "      <td>90.0</td>\n",
       "    </tr>\n",
       "    <tr>\n",
       "      <th>['atl hip hop', 'atl trap', 'rap', 'trap']</th>\n",
       "      <td>89.0</td>\n",
       "    </tr>\n",
       "    <tr>\n",
       "      <th>['puerto rican pop', 'trap latino']</th>\n",
       "      <td>89.0</td>\n",
       "    </tr>\n",
       "    <tr>\n",
       "      <th>['chicago rap', 'melodic rap']</th>\n",
       "      <td>89.0</td>\n",
       "    </tr>\n",
       "    <tr>\n",
       "      <th>['dfw rap', 'melodic rap', 'rap']</th>\n",
       "      <td>89.0</td>\n",
       "    </tr>\n",
       "    <tr>\n",
       "      <th>['permanent wave', 'pop']</th>\n",
       "      <td>88.0</td>\n",
       "    </tr>\n",
       "  </tbody>\n",
       "</table>\n",
       "</div>"
      ],
      "text/plain": [
       "                                                    popularity\n",
       "genres                                                        \n",
       "['canadian hip hop', 'canadian pop', 'hip hop',...        95.0\n",
       "['canadian contemporary r&b', 'canadian pop', '...        93.0\n",
       "['chicago rap', 'rap']                                    91.0\n",
       "['canadian pop', 'pop']                                   90.0\n",
       "['detroit hip hop', 'hip hop', 'rap']                     90.0\n",
       "['atl hip hop', 'atl trap', 'rap', 'trap']                89.0\n",
       "['puerto rican pop', 'trap latino']                       89.0\n",
       "['chicago rap', 'melodic rap']                            89.0\n",
       "['dfw rap', 'melodic rap', 'rap']                         89.0\n",
       "['permanent wave', 'pop']                                 88.0"
      ]
     },
     "execution_count": 176,
     "metadata": {},
     "output_type": "execute_result"
    }
   ],
   "source": [
    "popular_genre = data.filter(['genres', 'popularity']).groupby('genres').mean().sort_values('popularity', ascending=False).head(n = 10)\n",
    "popular_genre"
   ]
  },
  {
   "cell_type": "markdown",
   "metadata": {},
   "source": [
    "Artistas de interés: Son artistas que requieren de mayor publicidad, estos artistas se obtienen si y solo si, los artistas pertenecen a la lista de top 10 artistas más seguidos y top 10 artistas más populares, de este modo se eligen los artistas y se les otorga mayor publicidad y/o promoción."
   ]
  },
  {
   "cell_type": "code",
   "execution_count": 177,
   "metadata": {},
   "outputs": [
    {
     "data": {
      "text/plain": [
       "0       Ed Sheeran\n",
       "1            Drake\n",
       "2    Justin Bieber\n",
       "3           Eminem\n",
       "4     Taylor Swift\n",
       "5        Bad Bunny\n",
       "6              BTS\n",
       "Name: name, dtype: object"
      ]
     },
     "execution_count": 177,
     "metadata": {},
     "output_type": "execute_result"
    }
   ],
   "source": [
    "interest_artist = pd.merge(top_artist_follower, top_artist_popularity, how='inner', on =['name'])['name']\n",
    "interest_artist"
   ]
  },
  {
   "cell_type": "markdown",
   "metadata": {},
   "source": [
    "Obtenemos la media de los seguidores y de la popularidad de los artistas de interés para fijar una posible meta e incluso incentivar a los artistas a seguir creciendo."
   ]
  },
  {
   "cell_type": "code",
   "execution_count": 178,
   "metadata": {},
   "outputs": [
    {
     "name": "stderr",
     "output_type": "stream",
     "text": [
      "/var/folders/hv/mp9nz7454hn786c4psrvgmvm0000gn/T/ipykernel_4474/2984712449.py:1: FutureWarning: The default value of numeric_only in DataFrame.mean is deprecated. In a future version, it will default to False. In addition, specifying 'numeric_only=None' is deprecated. Select only valid columns or specify the value of numeric_only to silence this warning.\n",
      "  pd.merge(top_artist_follower, top_artist_popularity, how='inner', on =['name']).mean()\n"
     ]
    },
    {
     "data": {
      "text/plain": [
       "followers     6.607725e+07\n",
       "popularity    9.285714e+01\n",
       "dtype: float64"
      ]
     },
     "execution_count": 178,
     "metadata": {},
     "output_type": "execute_result"
    }
   ],
   "source": [
    "pd.merge(top_artist_follower, top_artist_popularity, how='inner', on =['name']).mean()"
   ]
  },
  {
   "cell_type": "markdown",
   "metadata": {},
   "source": [
    "Géneros de interés: Son géneros que requieren de mayor publicidad, estos géneros se obtienen si y solo si, los géneros pertenecen a la lista de top 10 géneros más seguidos y top 10 géneros más populares, de este modo se eligen los géneros y se les otorga mayor publicidad y/o promoción. Lastimosamente, no hay géneros de interés, es decir, no existe algún género que esté en ambas listas."
   ]
  },
  {
   "cell_type": "code",
   "execution_count": 179,
   "metadata": {},
   "outputs": [
    {
     "data": {
      "text/html": [
       "<div>\n",
       "<style scoped>\n",
       "    .dataframe tbody tr th:only-of-type {\n",
       "        vertical-align: middle;\n",
       "    }\n",
       "\n",
       "    .dataframe tbody tr th {\n",
       "        vertical-align: top;\n",
       "    }\n",
       "\n",
       "    .dataframe thead th {\n",
       "        text-align: right;\n",
       "    }\n",
       "</style>\n",
       "<table border=\"1\" class=\"dataframe\">\n",
       "  <thead>\n",
       "    <tr style=\"text-align: right;\">\n",
       "      <th></th>\n",
       "      <th>followers</th>\n",
       "      <th>popularity</th>\n",
       "    </tr>\n",
       "    <tr>\n",
       "      <th>genres</th>\n",
       "      <th></th>\n",
       "      <th></th>\n",
       "    </tr>\n",
       "  </thead>\n",
       "  <tbody>\n",
       "  </tbody>\n",
       "</table>\n",
       "</div>"
      ],
      "text/plain": [
       "Empty DataFrame\n",
       "Columns: [followers, popularity]\n",
       "Index: []"
      ]
     },
     "execution_count": 179,
     "metadata": {},
     "output_type": "execute_result"
    }
   ],
   "source": [
    "interest_genre = pd.merge(top_genre_follower, popular_genre, how='inner', on =['genres'])\n",
    "interest_genre"
   ]
  },
  {
   "cell_type": "markdown",
   "metadata": {},
   "source": [
    "Nombre y número de hits en cada país de los 3 artistas con mayores seguidores de cada genero con mayor seguidores. Esto con el fin de promocionar estos artistas a los usuarios que escuchan frecuentemente uno o más géneros de estos."
   ]
  },
  {
   "cell_type": "code",
   "execution_count": 180,
   "metadata": {},
   "outputs": [
    {
     "name": "stdout",
     "output_type": "stream",
     "text": [
      "               name                                 chart_hits\n",
      "14707  Arijit Singh  ['in (45)', 'my (5)', 'sg (2)', 'ae (3)']\n",
      "10132   Neha Kakkar                                ['in (18)']\n",
      "9595    A.R. Rahman                      ['in (24)', 'my (3)']\n",
      "                name                                         chart_hits\n",
      "17604  Ariana Grande  ['us (81)', 'gb (69)', 'ar (36)', 'au (70)', '...\n",
      "12307     Bruno Mars  ['us (24)', 'gb (19)', 'ar (12)', 'au (17)', '...\n",
      "18435     Katy Perry  ['us (16)', 'gb (15)', 'ar (10)', 'au (15)', '...\n",
      "                 name                                         chart_hits\n",
      "4148        Jung Kook  ['us (1)', 'ar (1)', 'at (1)', 'bo (1)', 'br (...\n",
      "6140  Mc Poze do Rodo                              ['br (10)', 'pt (7)']\n",
      "6355         R. Kelly  ['us (2)', 'gb (2)', 'au (2)', 'be (1)', 'ca (...\n",
      "             name                                         chart_hits\n",
      "17550         BTS  ['us (55)', 'gb (32)', 'ar (30)', 'au (32)', '...\n",
      "413           EXO  ['bg (6)', 'hk (11)', 'id (37)', 'jp (2)', 'lt...\n",
      "18286  Stray Kids  ['us (1)', 'au (1)', 'at (1)', 'bo (1)', 'bg (...\n",
      "               name                                         chart_hits\n",
      "4646   Taylor Swift  ['us (136)', 'gb (115)', 'ar (24)', 'au (110)'...\n",
      "1568       Maroon 5  ['us (21)', 'gb (15)', 'ar (16)', 'au (17)', '...\n",
      "16116  Harry Styles  ['us (35)', 'gb (35)', 'ar (23)', 'au (35)', '...\n",
      "                 name                                         chart_hits\n",
      "8289     Selena Gomez  ['us (31)', 'gb (16)', 'ar (17)', 'au (16)', '...\n",
      "280    Camila Cabello  ['us (23)', 'gb (21)', 'ar (18)', 'au (18)', '...\n",
      "10587     Demi Lovato  ['us (15)', 'gb (10)', 'ar (4)', 'au (8)', 'at...\n",
      "                name                                         chart_hits\n",
      "14198     Ed Sheeran  ['us (52)', 'gb (83)', 'ar (36)', 'au (65)', '...\n",
      "8979   Lewis Capaldi  ['us (4)', 'gb (16)', 'ar (2)', 'au (5)', 'at ...\n",
      "10782          Birdy  ['us (1)', 'gb (3)', 'ar (1)', 'at (4)', 'be (...\n",
      "               name                                         chart_hits\n",
      "1154   Daddy Yankee  ['us (3)', 'gb (1)', 'ar (32)', 'au (1)', 'at ...\n",
      "12817     Nicky Jam  ['us (4)', 'gb (2)', 'ar (25)', 'au (2)', 'at ...\n",
      "7897        Farruko  ['us (1)', 'ar (19)', 'at (1)', 'be (3)', 'bo ...\n",
      "               name                                         chart_hits\n",
      "14847  Bryant Myers  ['ar (5)', 'bo (5)', 'cl (20)', 'co (10)', 'cr...\n",
      "11168        Noriel  ['ar (3)', 'bo (4)', 'cl (8)', 'co (4)', 'cr (...\n",
      "18239  De La Ghetto  ['ar (7)', 'bo (8)', 'bg (1)', 'cl (13)', 'co ...\n",
      "             name                                         chart_hits\n",
      "9508    BLACKPINK  ['us (11)', 'gb (8)', 'ar (10)', 'au (13)', 'a...\n",
      "13943       TWICE  ['us (1)', 'au (2)', 'bo (1)', 'bg (2)', 'ca (...\n",
      "14129  Red Velvet  ['bg (1)', 'ca (1)', 'hk (12)', 'id (12)', 'jp...\n"
     ]
    }
   ],
   "source": [
    "new_list = top_genre_follower.filter(['genres'])\n",
    "for i in range(len(new_list)):\n",
    "    genre = new_list.iloc[i].name\n",
    "    ans = data.sort_values(['followers', 'popularity'], ascending = False).loc[data.genres == genre].head(n = 3).filter(['name', 'chart_hits'])\n",
    "    print(ans)"
   ]
  },
  {
   "cell_type": "markdown",
   "metadata": {},
   "source": [
    "Nombre y número de hits en cada país de los 3 artistas con mayor índice de popularidad de cada genero con mayor seguidores. Esto con el fin de promocionar estos artistas a los usuarios que escuchan frecuentemente uno o más géneros de estos."
   ]
  },
  {
   "cell_type": "code",
   "execution_count": 181,
   "metadata": {},
   "outputs": [
    {
     "name": "stdout",
     "output_type": "stream",
     "text": [
      "                 name                                 chart_hits\n",
      "14707    Arijit Singh  ['in (45)', 'my (5)', 'sg (2)', 'ae (3)']\n",
      "9595      A.R. Rahman                      ['in (24)', 'my (3)']\n",
      "17440  Shreya Ghoshal                                 ['in (6)']\n",
      "                name                                         chart_hits\n",
      "17604  Ariana Grande  ['us (81)', 'gb (69)', 'ar (36)', 'au (70)', '...\n",
      "10842       Doja Cat  ['us (26)', 'gb (20)', 'ar (8)', 'au (20)', 'a...\n",
      "12307     Bruno Mars  ['us (24)', 'gb (19)', 'ar (12)', 'au (17)', '...\n",
      "                   name                                         chart_hits\n",
      "1938   Chencho Corleone                     ['cl (3)', 'py (1)', 'uy (1)']\n",
      "68754            Disney                                                NaN\n",
      "4148          Jung Kook  ['us (1)', 'ar (1)', 'at (1)', 'bo (1)', 'br (...\n",
      "             name                                         chart_hits\n",
      "17550         BTS  ['us (55)', 'gb (32)', 'ar (30)', 'au (32)', '...\n",
      "5909    SEVENTEEN  ['hk (9)', 'id (15)', 'jp (15)', 'my (31)', 'p...\n",
      "18286  Stray Kids  ['us (1)', 'au (1)', 'at (1)', 'bo (1)', 'bg (...\n",
      "               name                                         chart_hits\n",
      "4646   Taylor Swift  ['us (136)', 'gb (115)', 'ar (24)', 'au (110)'...\n",
      "16116  Harry Styles  ['us (35)', 'gb (35)', 'ar (23)', 'au (35)', '...\n",
      "1568       Maroon 5  ['us (21)', 'gb (15)', 'ar (16)', 'au (17)', '...\n",
      "                 name                                         chart_hits\n",
      "8289     Selena Gomez  ['us (31)', 'gb (16)', 'ar (17)', 'au (16)', '...\n",
      "280    Camila Cabello  ['us (23)', 'gb (21)', 'ar (18)', 'au (18)', '...\n",
      "10587     Demi Lovato  ['us (15)', 'gb (10)', 'ar (4)', 'au (8)', 'at...\n",
      "                name                                         chart_hits\n",
      "14198     Ed Sheeran  ['us (52)', 'gb (83)', 'ar (36)', 'au (65)', '...\n",
      "8979   Lewis Capaldi  ['us (4)', 'gb (16)', 'ar (2)', 'au (5)', 'at ...\n",
      "7139      Tate McRae  ['us (7)', 'gb (6)', 'au (8)', 'at (7)', 'be (...\n",
      "               name                                         chart_hits\n",
      "1154   Daddy Yankee  ['us (3)', 'gb (1)', 'ar (32)', 'au (1)', 'at ...\n",
      "7897        Farruko  ['us (1)', 'ar (19)', 'at (1)', 'be (3)', 'bo ...\n",
      "12817     Nicky Jam  ['us (4)', 'gb (2)', 'ar (25)', 'au (2)', 'at ...\n",
      "               name                                         chart_hits\n",
      "18239  De La Ghetto  ['ar (7)', 'bo (8)', 'bg (1)', 'cl (13)', 'co ...\n",
      "17664    Ñengo Flow  ['cl (3)', 'co (1)', 'do (2)', 'pa (1)', 'es (...\n",
      "14847  Bryant Myers  ['ar (5)', 'bo (5)', 'cl (20)', 'co (10)', 'cr...\n",
      "             name                                         chart_hits\n",
      "9508    BLACKPINK  ['us (11)', 'gb (8)', 'ar (10)', 'au (13)', 'a...\n",
      "13943       TWICE  ['us (1)', 'au (2)', 'bo (1)', 'bg (2)', 'ca (...\n",
      "14129  Red Velvet  ['bg (1)', 'ca (1)', 'hk (12)', 'id (12)', 'jp...\n"
     ]
    }
   ],
   "source": [
    "\n",
    "new_list = top_genre_follower.filter(['genres'])\n",
    "for i in range(len(new_list)):\n",
    "    genre = new_list.iloc[i].name\n",
    "    ans = data.sort_values(['popularity', 'followers'], ascending = False).loc[data.genres == genre].head(n = 3).filter(['name', 'chart_hits'])\n",
    "    print(ans)"
   ]
  },
  {
   "cell_type": "markdown",
   "metadata": {},
   "source": [
    "Nombre y número de hits en cada país de los 3 artistas de interés de cada genero con mayor seguidores. Esto con el fin de promocionar estos artistas a los usuarios que escuchan frecuentemente uno o más géneros de estos con mayor probabilidad a que les gusten."
   ]
  },
  {
   "cell_type": "code",
   "execution_count": 182,
   "metadata": {},
   "outputs": [
    {
     "name": "stdout",
     "output_type": "stream",
     "text": [
      "           name                                 chart_hits\n",
      "0  Arijit Singh  ['in (45)', 'my (5)', 'sg (2)', 'ae (3)']\n",
      "1   A.R. Rahman                      ['in (24)', 'my (3)']\n",
      "            name                                         chart_hits\n",
      "0  Ariana Grande  ['us (81)', 'gb (69)', 'ar (36)', 'au (70)', '...\n",
      "1     Bruno Mars  ['us (24)', 'gb (19)', 'ar (12)', 'au (17)', '...\n",
      "        name                                         chart_hits\n",
      "0  Jung Kook  ['us (1)', 'ar (1)', 'at (1)', 'bo (1)', 'br (...\n",
      "         name                                         chart_hits\n",
      "0         BTS  ['us (55)', 'gb (32)', 'ar (30)', 'au (32)', '...\n",
      "1  Stray Kids  ['us (1)', 'au (1)', 'at (1)', 'bo (1)', 'bg (...\n",
      "           name                                         chart_hits\n",
      "0  Taylor Swift  ['us (136)', 'gb (115)', 'ar (24)', 'au (110)'...\n",
      "1      Maroon 5  ['us (21)', 'gb (15)', 'ar (16)', 'au (17)', '...\n",
      "2  Harry Styles  ['us (35)', 'gb (35)', 'ar (23)', 'au (35)', '...\n",
      "             name                                         chart_hits\n",
      "0    Selena Gomez  ['us (31)', 'gb (16)', 'ar (17)', 'au (16)', '...\n",
      "1  Camila Cabello  ['us (23)', 'gb (21)', 'ar (18)', 'au (18)', '...\n",
      "2     Demi Lovato  ['us (15)', 'gb (10)', 'ar (4)', 'au (8)', 'at...\n",
      "            name                                         chart_hits\n",
      "0     Ed Sheeran  ['us (52)', 'gb (83)', 'ar (36)', 'au (65)', '...\n",
      "1  Lewis Capaldi  ['us (4)', 'gb (16)', 'ar (2)', 'au (5)', 'at ...\n",
      "           name                                         chart_hits\n",
      "0  Daddy Yankee  ['us (3)', 'gb (1)', 'ar (32)', 'au (1)', 'at ...\n",
      "1     Nicky Jam  ['us (4)', 'gb (2)', 'ar (25)', 'au (2)', 'at ...\n",
      "2       Farruko  ['us (1)', 'ar (19)', 'at (1)', 'be (3)', 'bo ...\n",
      "           name                                         chart_hits\n",
      "0  Bryant Myers  ['ar (5)', 'bo (5)', 'cl (20)', 'co (10)', 'cr...\n",
      "1  De La Ghetto  ['ar (7)', 'bo (8)', 'bg (1)', 'cl (13)', 'co ...\n",
      "         name                                         chart_hits\n",
      "0   BLACKPINK  ['us (11)', 'gb (8)', 'ar (10)', 'au (13)', 'a...\n",
      "1       TWICE  ['us (1)', 'au (2)', 'bo (1)', 'bg (2)', 'ca (...\n",
      "2  Red Velvet  ['bg (1)', 'ca (1)', 'hk (12)', 'id (12)', 'jp...\n"
     ]
    }
   ],
   "source": [
    "new_list = top_genre_follower.filter(['genres'])\n",
    "for i in range(len(new_list)):\n",
    "    genre = new_list.iloc[i].name\n",
    "    ans1 = data.sort_values(['followers', 'popularity'], ascending = False).loc[data.genres == genre].head(n = 3).filter(['name', 'chart_hits'])\n",
    "    ans2 = data.sort_values(['popularity', 'followers'], ascending = False).loc[data.genres == genre].head(n = 3).filter(['name', 'chart_hits'])\n",
    "    print(pd.merge(ans1, ans2, how = 'inner', on = ['name', 'chart_hits']))"
   ]
  },
  {
   "cell_type": "code",
   "execution_count": 183,
   "metadata": {},
   "outputs": [
    {
     "name": "stdout",
     "output_type": "stream",
     "text": [
      "        name                                         chart_hits\n",
      "18726  Drake  ['us (190)', 'gb (163)', 'ar (18)', 'au (148)'...\n",
      "             name                                         chart_hits\n",
      "13879  The Weeknd  ['us (81)', 'gb (74)', 'ar (23)', 'au (76)', '...\n",
      "             name                                         chart_hits\n",
      "19533  Kanye West  ['us (89)', 'gb (84)', 'ar (3)', 'au (81)', 'a...\n",
      "               name                                         chart_hits\n",
      "6237  Justin Bieber  ['us (58)', 'gb (51)', 'ar (29)', 'au (54)', '...\n",
      "        name                                         chart_hits\n",
      "5486  Eminem  ['us (78)', 'gb (72)', 'ar (7)', 'au (64)', 'a...\n",
      "         name                                         chart_hits\n",
      "273  Lil Baby  ['us (62)', 'gb (16)', 'au (6)', 'at (3)', 'be...\n",
      "                 name                                         chart_hits\n",
      "16350  Rauw Alejandro  ['us (3)', 'ar (29)', 'at (1)', 'be (1)', 'bo ...\n",
      "            name                                         chart_hits\n",
      "6992  Juice WRLD  ['us (80)', 'gb (50)', 'ar (1)', 'au (48)', 'a...\n",
      "              name                                         chart_hits\n",
      "15995  Post Malone  ['us (65)', 'gb (57)', 'ar (7)', 'au (54)', 'a...\n",
      "          name                                         chart_hits\n",
      "7527  Coldplay  ['us (18)', 'gb (29)', 'ar (18)', 'au (16)', '...\n"
     ]
    }
   ],
   "source": [
    "new_list = popular_genre.filter(['genres'])\n",
    "for i in range(len(new_list)):\n",
    "    genre = new_list.iloc[i].name\n",
    "    ans = data.sort_values(['followers', 'popularity'], ascending = False).loc[data.genres == genre].head(n = 3).filter(['name', 'chart_hits'])\n",
    "    print(ans)"
   ]
  },
  {
   "cell_type": "code",
   "execution_count": 184,
   "metadata": {},
   "outputs": [
    {
     "name": "stdout",
     "output_type": "stream",
     "text": [
      "        name                                         chart_hits\n",
      "18726  Drake  ['us (190)', 'gb (163)', 'ar (18)', 'au (148)'...\n",
      "             name                                         chart_hits\n",
      "13879  The Weeknd  ['us (81)', 'gb (74)', 'ar (23)', 'au (76)', '...\n",
      "             name                                         chart_hits\n",
      "19533  Kanye West  ['us (89)', 'gb (84)', 'ar (3)', 'au (81)', 'a...\n",
      "               name                                         chart_hits\n",
      "6237  Justin Bieber  ['us (58)', 'gb (51)', 'ar (29)', 'au (54)', '...\n",
      "        name                                         chart_hits\n",
      "5486  Eminem  ['us (78)', 'gb (72)', 'ar (7)', 'au (64)', 'a...\n",
      "         name                                         chart_hits\n",
      "273  Lil Baby  ['us (62)', 'gb (16)', 'au (6)', 'at (3)', 'be...\n",
      "                 name                                         chart_hits\n",
      "16350  Rauw Alejandro  ['us (3)', 'ar (29)', 'at (1)', 'be (1)', 'bo ...\n",
      "            name                                         chart_hits\n",
      "6992  Juice WRLD  ['us (80)', 'gb (50)', 'ar (1)', 'au (48)', 'a...\n",
      "              name                                         chart_hits\n",
      "15995  Post Malone  ['us (65)', 'gb (57)', 'ar (7)', 'au (54)', 'a...\n",
      "          name                                         chart_hits\n",
      "7527  Coldplay  ['us (18)', 'gb (29)', 'ar (18)', 'au (16)', '...\n"
     ]
    }
   ],
   "source": [
    "new_list = popular_genre.filter(['genres'])\n",
    "for i in range(len(new_list)):\n",
    "    genre = new_list.iloc[i].name\n",
    "    ans = data.sort_values(['popularity', 'followers'], ascending = False).loc[data.genres == genre].head(n = 3).filter(['name', 'chart_hits'])\n",
    "    print(ans)"
   ]
  },
  {
   "cell_type": "code",
   "execution_count": 185,
   "metadata": {},
   "outputs": [
    {
     "name": "stdout",
     "output_type": "stream",
     "text": [
      "    name                                         chart_hits\n",
      "0  Drake  ['us (190)', 'gb (163)', 'ar (18)', 'au (148)'...\n",
      "         name                                         chart_hits\n",
      "0  The Weeknd  ['us (81)', 'gb (74)', 'ar (23)', 'au (76)', '...\n",
      "         name                                         chart_hits\n",
      "0  Kanye West  ['us (89)', 'gb (84)', 'ar (3)', 'au (81)', 'a...\n",
      "            name                                         chart_hits\n",
      "0  Justin Bieber  ['us (58)', 'gb (51)', 'ar (29)', 'au (54)', '...\n",
      "     name                                         chart_hits\n",
      "0  Eminem  ['us (78)', 'gb (72)', 'ar (7)', 'au (64)', 'a...\n",
      "       name                                         chart_hits\n",
      "0  Lil Baby  ['us (62)', 'gb (16)', 'au (6)', 'at (3)', 'be...\n",
      "             name                                         chart_hits\n",
      "0  Rauw Alejandro  ['us (3)', 'ar (29)', 'at (1)', 'be (1)', 'bo ...\n",
      "         name                                         chart_hits\n",
      "0  Juice WRLD  ['us (80)', 'gb (50)', 'ar (1)', 'au (48)', 'a...\n",
      "          name                                         chart_hits\n",
      "0  Post Malone  ['us (65)', 'gb (57)', 'ar (7)', 'au (54)', 'a...\n",
      "       name                                         chart_hits\n",
      "0  Coldplay  ['us (18)', 'gb (29)', 'ar (18)', 'au (16)', '...\n"
     ]
    }
   ],
   "source": [
    "new_list = popular_genre.filter(['genres'])\n",
    "for i in range(len(new_list)):\n",
    "    genre = new_list.iloc[i].name\n",
    "    ans1 = data.sort_values(['followers', 'popularity'], ascending = False).loc[data.genres == genre].head(n = 3).filter(['name', 'chart_hits'])\n",
    "    ans2 = data.sort_values(['popularity', 'followers'], ascending = False).loc[data.genres == genre].head(n = 3).filter(['name', 'chart_hits'])\n",
    "    print(pd.merge(ans1, ans2, how = 'inner', on = ['name', 'chart_hits']))"
   ]
  }
 ],
 "metadata": {
  "kernelspec": {
   "display_name": "Python 3.10.6 64-bit",
   "language": "python",
   "name": "python3"
  },
  "language_info": {
   "codemirror_mode": {
    "name": "ipython",
    "version": 3
   },
   "file_extension": ".py",
   "mimetype": "text/x-python",
   "name": "python",
   "nbconvert_exporter": "python",
   "pygments_lexer": "ipython3",
   "version": "3.10.6"
  },
  "orig_nbformat": 4,
  "vscode": {
   "interpreter": {
    "hash": "b0fa6594d8f4cbf19f97940f81e996739fb7646882a419484c72d19e05852a7e"
   }
  }
 },
 "nbformat": 4,
 "nbformat_minor": 2
}
